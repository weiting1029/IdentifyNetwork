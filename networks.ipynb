{
 "cells": [
  {
   "cell_type": "markdown",
   "metadata": {
    "id": "vOZkJHWRAouo"
   },
   "source": []
  },
  {
   "cell_type": "code",
   "execution_count": 43,
   "metadata": {
    "colab": {
     "base_uri": "https://localhost:8080/"
    },
    "executionInfo": {
     "elapsed": 939,
     "status": "ok",
     "timestamp": 1610666327538,
     "user": {
      "displayName": "Weiting Yi",
      "photoUrl": "",
      "userId": "03172180866994945954"
     },
     "user_tz": -60
    },
    "id": "fE7xURPtYVHU",
    "outputId": "dd80b859-3236-420f-9f3f-82b5be24985e"
   },
   "outputs": [],
   "source": [
    "# from google.colab import drive\n",
    "# drive.mount('/content/drive')\n",
    "import numpy as np\n",
    "import pandas as pd\n",
    "import scipy as sp\n",
    "import matplotlib.pyplot as plt\n",
    "from scipy import sparse\n",
    "import scipy.sparse.linalg as splinear\n",
    "from numpy import linalg as LA\n",
    "import random\n",
    "import seaborn as sns\n"
   ]
  },
  {
   "cell_type": "markdown",
   "metadata": {
    "id": "9DUfprEK4xT_"
   },
   "source": [
    "# **Identify Networks**\n",
    "\n",
    "\n"
   ]
  },
  {
   "cell_type": "markdown",
   "metadata": {
    "id": "YghJ-naO47Iu"
   },
   "source": [
    "# **1. Simulation Set-up**"
   ]
  },
  {
   "cell_type": "code",
   "execution_count": 67,
   "metadata": {
    "executionInfo": {
     "elapsed": 1012,
     "status": "ok",
     "timestamp": 1610666388616,
     "user": {
      "displayName": "Weiting Yi",
      "photoUrl": "",
      "userId": "03172180866994945954"
     },
     "user_tz": -60
    },
    "id": "9npm2T9ToTvQ"
   },
   "outputs": [],
   "source": [
    "k = 500\n",
    "N=10\n",
    "T=50\n",
    "rho0=0.3\n",
    "beta0=0.4\n",
    "gamma0=0.5\n",
    "eye = np.identity(N)\n",
    "seye = sparse.csr_matrix(eye)\n",
    "unit = np.ones(N)\n",
    "zero = np.zeros(N)\n",
    "e = 10**(-3)\n",
    "np.random.seed(10)\n",
    "\n",
    "#time-fixed effects\n",
    "mu, sigma = 1, 1\n",
    "alpha0 = np.random.normal(mu,sigma,T)\n",
    "\n",
    "#individual fixed effects\n",
    "alpha1 = np.random.multivariate_normal(unit,eye,1)\n",
    "\n",
    "#exogeneous variables\n",
    "X = np.random.multivariate_normal(zero,eye,T)\n",
    "Err = np.random.multivariate_normal(zero,eye,T)\n",
    "# W0 = np.zeros((N, N))\n",
    "\n",
    "\n",
    "\n",
    "def dgp(k,N,T,rho0,beta0,gamma0,sW0,alpha0,alpha1,X,error):\n",
    "    Y = np.zeros((T,N))\n",
    "    for i in range(T):\n",
    "        Y[i,] = splinear.spsolve(seye-rho0*sW0,beta0*X[i,]+sW0@X[i,]*gamma0+error[i,])\n",
    "    return Y\n",
    "\n",
    "\n",
    "\n",
    "\n",
    "\n",
    "\n"
   ]
  },
  {
   "cell_type": "raw",
   "metadata": {},
   "source": [
    "print(X)\n",
    "print(Err)"
   ]
  },
  {
   "cell_type": "markdown",
   "metadata": {
    "id": "Z2D3P-_4AYn0"
   },
   "source": [
    "## Set-up One: A Random Network \n",
    "\n",
    "\n"
   ]
  },
  {
   "cell_type": "code",
   "execution_count": 68,
   "metadata": {
    "executionInfo": {
     "elapsed": 1282,
     "status": "ok",
     "timestamp": 1610666395575,
     "user": {
      "displayName": "Weiting Yi",
      "photoUrl": "",
      "userId": "03172180866994945954"
     },
     "user_tz": -60
    },
    "id": "b9z2eaL1fBrO"
   },
   "outputs": [
    {
     "name": "stdout",
     "output_type": "stream",
     "text": [
      "[ 0  1  2  3  4  5  0  6  7  8  9 10  0 11 12 13 14 15  0 16 17 18 19 20\n",
      "  0]\n",
      "[[ 0  1  2  3  4]\n",
      " [ 5  0  6  7  8]\n",
      " [ 9 10  0 11 12]\n",
      " [13 14 15  0 16]\n",
      " [17 18 19 20  0]]\n"
     ]
    }
   ],
   "source": [
    "def network1(N):\n",
    "    W1 = np.zeros((N,N))\n",
    "    for i in range(N):\n",
    "        rd = np.random.randint(0,N-1,1)\n",
    "        if (i!=rd):\n",
    "            W1[i,rd]=1\n",
    "        else:\n",
    "            W1[i,rd+1]=1\n",
    "    sW1 = sparse.csr_matrix(W1)\n",
    "  #plt.spy(sW0)\n",
    "    return sW1\n",
    "\n",
    "\n",
    "#a snippet to delete the diagonal\n",
    "def remove_diag(x):\n",
    "    x_no_diag = np.ndarray.flatten(x)\n",
    "    x_no_diag = np.delete(x_no_diag, range(0, len(x_no_diag), len(x) + 1))\n",
    "    temp = len(x_no_diag)-len(x)+1\n",
    "    x_no_diag = np.delete(x_no_diag,range(0,temp,len(x)))\n",
    "    x_no_diag = np.delete(x_no_diag,-1)\n",
    "    return x_no_diag\n",
    "\n",
    "\n",
    "\n",
    "\n",
    "# a test for the matrix construction snippet \n",
    "test = np.arange(20)+1\n",
    "for i in range(5):\n",
    "    test= np.insert(test,i*6,0)\n",
    "print(test)\n",
    "testmatrix = test.reshape((5,5),order='C')\n",
    "print(testmatrix)\n",
    "test = np.arange(20)\n",
    "\n",
    "#the matrix construction snippet \n",
    "def reconstruct(Wlist):\n",
    "    W_temp = Wlist.reshape((N,N-2))\n",
    "    W_missing = np.ones(N)-np.sum(W_temp,axis=1)\n",
    "    for i in range(N-1):\n",
    "        Wlist=np.insert(Wlist,i*(N+1),[0,W_missing[i]])\n",
    "    n = N**2-2\n",
    "    Wlist = np.insert(Wlist,n,[W_missing[N-1],0])\n",
    "  # print(Wlist)\n",
    "  # print(np.shape(Wlist))\n",
    "    W = Wlist.reshape((N,N))\n",
    "    sW = sparse.csr_matrix(W)\n",
    "    return sW\n",
    "\n",
    "\n",
    "\n"
   ]
  },
  {
   "cell_type": "code",
   "execution_count": 69,
   "metadata": {},
   "outputs": [],
   "source": [
    "# N = 5\n",
    "# test = network1(N)\n",
    "# plt.spy(test)\n",
    "# print(test)\n",
    "# test = test.toarray()\n",
    "# no_diag_test = remove_diag(test)\n",
    "# print(np.reshape(no_diag_test,(N,N-2)))\n",
    "# print(no_diag_test)\n",
    "# print(len(no_diag_test))\n",
    "# print(len(test))\n",
    "# list = np.arange(N)\n",
    "# print(list)\n",
    "# print(list[-1])"
   ]
  },
  {
   "cell_type": "markdown",
   "metadata": {
    "id": "t3qvjigfMAzf"
   },
   "source": [
    "# **2. Objective functions and constraints**#"
   ]
  },
  {
   "cell_type": "markdown",
   "metadata": {
    "id": "gHgE9HtKPJzS"
   },
   "source": [
    "## 2.1 Objectives"
   ]
  },
  {
   "cell_type": "code",
   "execution_count": 70,
   "metadata": {
    "executionInfo": {
     "elapsed": 953,
     "status": "ok",
     "timestamp": 1610666928499,
     "user": {
      "displayName": "Weiting Yi",
      "photoUrl": "",
      "userId": "03172180866994945954"
     },
     "user_tz": -60
    },
    "id": "2UFeEd4LAuJP"
   },
   "outputs": [],
   "source": [
    "#objective functions\n",
    "#unpenalized gmm\n",
    "def gmm(para,*args):\n",
    "    Y, X,p1,p2,p3 = args\n",
    "    para = np.reshape(para,(N*(N-2)+3))\n",
    "    rho = para[-3]\n",
    "    gamma = para[-2]\n",
    "    beta = para[-1]\n",
    "    Wlist = para[0:-3]\n",
    "#     W = W1\n",
    "    W = reconstruct(Wlist)\n",
    "    ERR = (eye-rho*W)@np.transpose(Y)-(beta*eye+gamma*W)@np.transpose(X)\n",
    "    ERR = np.transpose(ERR)\n",
    "    gnt = np.zeros(N*N)\n",
    "    for j in range(T):\n",
    "        temp = np.outer(X[j],ERR[j])\n",
    "        gnt = gnt+temp.reshape((N*N))\n",
    "\n",
    "  #weight matrix \n",
    "    Weight = np.identity(N*N)\n",
    "    gnt.reshape((N*N,1))\n",
    "    return np.transpose(gnt)@Weight@gnt\n",
    "\n",
    "\n",
    "#def unpenalized mle   \n",
    "#assume the little sigma =1 \n",
    "def mle(para,*args):\n",
    "    Y, X,p1,p2,p3 = args\n",
    "    para = np.reshape(para,(N*(N-2)+3))\n",
    "    rho = para[-3]\n",
    "    gamma = para[-2]\n",
    "    beta = para[-1]\n",
    "    Wlist = para[0:-3]\n",
    "    W = reconstruct(Wlist)\n",
    "    ERR = (eye-rho*W)@np.transpose(Y)-(beta*eye+gamma*W)@np.transpose(X)\n",
    "    ERR = np.transpose(ERR)\n",
    "    tllk=0\n",
    "    for i in range(T):\n",
    "        error = np.reshape(ERR[i],(N,1))\n",
    "        tllk = tllk-0.5*N*math.log(2*math.pi)-0.5*np.transpose(error)@error\n",
    "  \n",
    "    llk = tllk/T\n",
    "    \n",
    "    return -llk.item()\n",
    "  \n",
    "#define the penalty functions\n",
    "def lasso_s1(para,*args):\n",
    "    Y, X,p1,p2,p3 = args\n",
    "    Wlist = para[0:-3]\n",
    "    lasso_pen = 0\n",
    "    for i in range(len(Wlist)):\n",
    "        lasso_pen = lasso_pen + (abs(Wlist[i]))\n",
    "    return p1*lasso_pen\n",
    "\n",
    "def lasso_s2(para,*args):\n",
    "    Y, X,p1,p2,p3= args\n",
    "    Wlist = para[0:-3]\n",
    "    lasso_pen = 0\n",
    "    for i in range(len(Wlist)):\n",
    "        lasso_pen = lasso_pen + (abs(Wlist[i]))\n",
    "    return p2*lasso_pen\n",
    "\n",
    "\n",
    "def lasso_s3(para,*args):\n",
    "    Y, X,p1,p2,p3= args\n",
    "    Wlist = para[0:-3]\n",
    "    lasso_pen = 0\n",
    "    for i in range(len(Wlist)):\n",
    "        lasso_pen = lasso_pen + (Wlist[i])\n",
    "    return p2*lasso_pen\n",
    "\n",
    "\n",
    "\n",
    "def elsn_s1(para,*args):\n",
    "    Y, X,p1,p2,p3 = args\n",
    "    Wlist = para[0:-3]\n",
    "    lasso_pen = 0\n",
    "    ridge_pen = 0\n",
    "    for i in range(len(Wlist)):\n",
    "        lasso_pen = lasso_pen + p1*(abs(Wlist[i]))\n",
    "        ridge_pen = ridge_pen + p3*(Wlist[i]*Wlist[i])\n",
    "    return ridge_pen+lasso_pen\n",
    "\n",
    "\n",
    "def elsn_s2(para,*args):\n",
    "    Y, X,p1,p2,p3 = args\n",
    "    Wlist = para[0:-3]\n",
    "    lasso_pen = 0\n",
    "    ridge_pen = 0\n",
    "    for i in range(len(Wlist)):\n",
    "    \tlasso_pen = lasso_pen + p2*(abs(Wlist[i]))\n",
    "    \tridge_pen = ridge_pen + p3*(Wlist[i]*Wlist[i])\n",
    "    return ridge_pen+lasso_pen\n",
    "\n",
    "\n",
    "def elsn_s3(para,*args):\n",
    "    Y, X,p1,p2,p3 = args\n",
    "    Wlist = para[0:-3]\n",
    "    lasso_pen = 0\n",
    "    ridge_pen = 0\n",
    "    for i in range(len(Wlist)):\n",
    "        lasso_pen = lasso_pen + p1*(Wlist[i])\n",
    "        ridge_pen = ridge_pen + p3*(Wlist[i]*Wlist[i])\n",
    "    \n",
    "    return ridge_pen+lasso_pen\n",
    "  \n",
    "  \n",
    "  \n",
    "def gmm_pen(para,*args):\n",
    "\treturn (1+p2/T)*(gmm(para,*args)+ elsn_s3(para,*args))\n",
    "\n",
    "# def mle_pen(para,*args):\n",
    "#   return (1+p2/T)*(mle(para,*args)+ elsn_s1(para,*args))\n"
   ]
  },
  {
   "cell_type": "markdown",
   "metadata": {
    "id": "1ZMMwfZ4QLjt"
   },
   "source": [
    "## 2.2 Constraints "
   ]
  },
  {
   "cell_type": "code",
   "execution_count": 71,
   "metadata": {
    "id": "nHoXa-WqQR4b"
   },
   "outputs": [],
   "source": [
    "e = 10**(-5)\n",
    "#constraint1--Assumption2\n",
    "def cons0(para,*args):\n",
    "\tY, X,p1,p2,p3 = args\n",
    "\trho = para[-3]\n",
    "\treturn 1-rho-e\n",
    "\n",
    "# def cons1(para):\n",
    "#   rho = para[-3]\n",
    "#   Wlist = para[0:-4]\n",
    "#   W = reconstruct(Wlist)\n",
    "#   return 1-np.sum(np.abs(rho*W[i]))-e  \n",
    "\n",
    "#Assumption3\n",
    "def cons3a(para,*args):\n",
    "\tY, X,p1,p2,p3 = args\n",
    "\trho = para[-3]\n",
    "\tgamma = para[-2]\n",
    "\tbeta = para[-1]\n",
    "\treturn beta*rho+gamma-e\n",
    "\n",
    "def cons3b(para,*args):\n",
    "\tY, X,p1,p2,p3 = args\n",
    "\trho = para[-3]\n",
    "\tgamma = para[-2]\n",
    "\tbeta = para[-1]\n",
    "\treturn -(beta*rho+gamma-e)\n",
    "\n",
    "#Assumption4, like a regularization assumption(lets say i = 0)\n",
    "def cons4(para,*args):\n",
    "\tY, X,p1,p2,p3 = args\n",
    "\tWlist = para[0:-3]\n",
    "\tW = reconstruct(Wlist)\n",
    "\treturn np.sum(W[0])-1-e\n",
    "\n",
    "\n",
    "#Assumption 5\n",
    "def cons5a(para,*args):\n",
    "\tY, X,p1,p2,p3 = args\n",
    "\tWlist = para[0:-3]\n",
    "\tW = reconstruct(Wlist)\n",
    "\tW2 = W@W\n",
    "\tdiag = np.diag(W2)\n",
    "\treturn diag[0]-diag[1]-e\n",
    "\n",
    "def cons5b(para,*args):\n",
    "\tY, X,p1,p2,p3 = args\n",
    "\tWlist = para[0:-3]\n",
    "\tW = reconstruct(Wlist)\n",
    "\tW2 = W@W\n",
    "\tdiag = np.diag(W2)\n",
    "\treturn -(diag[0]-diag[1]-e)\n",
    "\n",
    "\n",
    "\n",
    "def all_constraints(para,*args):\n",
    "\ta2a = cons0(para,*args)\n",
    "\ta3a = cons3a(para,*args)\n",
    "\ta3b = cons3b(para,*args)\n",
    "\ta4 = cons4(para,*args)\n",
    "\ta5a = cons5a(para,*args)\n",
    "\ta5b = cons5b(para,*args)\n",
    "\treturn [a2a,a3a,a3b,a4,a5a,a5b]\n",
    "\n"
   ]
  },
  {
   "cell_type": "markdown",
   "metadata": {
    "id": "gmXybxWT4_Ce"
   },
   "source": [
    "# **3. Algorithm Implementation**"
   ]
  },
  {
   "cell_type": "code",
   "execution_count": 72,
   "metadata": {
    "executionInfo": {
     "elapsed": 1265,
     "status": "ok",
     "timestamp": 1610667353046,
     "user": {
      "displayName": "Weiting Yi",
      "photoUrl": "",
      "userId": "03172180866994945954"
     },
     "user_tz": -60
    },
    "id": "8iuDAkHeh3R1"
   },
   "outputs": [],
   "source": [
    "from scipy.optimize import minimize\n",
    "import math "
   ]
  },
  {
   "cell_type": "code",
   "execution_count": 73,
   "metadata": {},
   "outputs": [],
   "source": [
    "def cal_TPR(estimated_W, true_W):\n",
    "    est_list = np.reshape(estimated_W,len(estimated_W))\n",
    "    true_list = np.reshape(true_W,len(true_W))\n",
    "    dot_list = np.multiply(est_list,true_list)\n",
    "    num_count = np.count_nonzero(dot_list)\n",
    "    de_count = np.count_nonzero(true_list)\n",
    "    return num_count/de_count\n",
    "\n",
    "def cal_TNP(estimated_W, true_W):\n",
    "    est_list = np.reshape(estimated_W,len(estimated_W))\n",
    "    true_list = np.reshape(true_W,len(true_W))\n",
    "    num_count = 0\n",
    "    for i in range(len(est_list)):\n",
    "        if est_list[i] ==0 and true_list[i]==0:\n",
    "            num_count+=1\n",
    "    de_count = len(true_list)-np.count_nonzero(true_list)\n",
    "    return num_count/de_count\n",
    "\n",
    "    \n",
    "def cal_Bias2(estimated_paras,true_paras):\n",
    "    return LA.norm(estimated_paras-true_paras)**2/len(true_paras)\n",
    "\n",
    "\n",
    "def cal_MSE(estimated_paras,Y):\n",
    "    fit_Y = np.zeros((T,N))\n",
    "    est_rho = estimated_paras[-3]\n",
    "    est_gamma = estimated_paras[-2]\n",
    "    est_beta = estimated_paras[-1]\n",
    "    est_Wlist = estimated_paras[0:-3]\n",
    "    est_W = reconstruct(est_Wlist)\n",
    "    Y_list = np.ndarray.flatten(Y)\n",
    "    for i in range(T):\n",
    "        fit_Y[i,] = LA.solve(eye-est_rho*est_W,est_beta*X[i,]+est_W@X[i,]*est_gamma+Err[i,])\n",
    "    fit_Y_list = np.ndarray.flatten(fit_Y)\n",
    "    return LA.norm(fit_Y-Y)**2/len(fit_Y_list)\n",
    "    "
   ]
  },
  {
   "cell_type": "code",
   "execution_count": 74,
   "metadata": {
    "colab": {
     "base_uri": "https://localhost:8080/",
     "height": 575
    },
    "executionInfo": {
     "elapsed": 847,
     "status": "ok",
     "timestamp": 1610667949534,
     "user": {
      "displayName": "Weiting Yi",
      "photoUrl": "",
      "userId": "03172180866994945954"
     },
     "user_tz": -60
    },
    "id": "FVZEQCy3f1Yp",
    "outputId": "c8a6e010-9fa8-447e-85d6-f93e22beb7fc"
   },
   "outputs": [],
   "source": [
    "\n",
    "#test \n",
    "# testt = reconstruct(para_WW)\n",
    "# print(testt)\n",
    "# plt.spy(testt)\n",
    "# np.sum(testt,axis=0)"
   ]
  },
  {
   "cell_type": "markdown",
   "metadata": {
    "id": "rCZ5ykDpTTT-"
   },
   "source": [
    "## 3.1 Sequential Quadratic Programming for nonlinear constrained optimization"
   ]
  },
  {
   "cell_type": "markdown",
   "metadata": {
    "executionInfo": {
     "elapsed": 1701,
     "status": "ok",
     "timestamp": 1610666967492,
     "user": {
      "displayName": "Weiting Yi",
      "photoUrl": "",
      "userId": "03172180866994945954"
     },
     "user_tz": -60
    },
    "id": "HZPfAPu-fbDt"
   },
   "source": [
    "# 4. Simulation results"
   ]
  },
  {
   "cell_type": "markdown",
   "metadata": {},
   "source": [
    "## 4.1 Unconstrained optimization"
   ]
  },
  {
   "cell_type": "code",
   "execution_count": 75,
   "metadata": {},
   "outputs": [],
   "source": [
    "from scipy.optimize import minimize"
   ]
  },
  {
   "cell_type": "code",
   "execution_count": 76,
   "metadata": {},
   "outputs": [
    {
     "name": "stdout",
     "output_type": "stream",
     "text": [
      "(50, 10)\n"
     ]
    },
    {
     "data": {
      "image/png": "[encoded data removed]",
      "text/plain": [
       "<Figure size 432x288 with 1 Axes>"
      ]
     },
     "metadata": {
      "needs_background": "light"
     },
     "output_type": "display_data"
    }
   ],
   "source": [
    "np.random.seed(10)\n",
    "W1 = network1(N)\n",
    "Y1 = dgp(k,N,T,rho0,beta0,gamma0,W1,alpha0,alpha1,X,Err)\n",
    "print(np.shape(Y1))\n",
    "plt.spy(W1)\n",
    "para_W = W1.toarray()\n",
    "# print(para_W)\n",
    "para_WW = remove_diag(para_W)\n",
    "# print(para_WW)\n",
    "para_true = np.zeros(N*(N-2)+3)\n",
    "para_true[-3:]=[rho0,gamma0,beta0]\n",
    "para_true[:-3] = np.reshape(para_WW,(N*(N-2)))\n",
    "# print(para_true)"
   ]
  },
  {
   "cell_type": "code",
   "execution_count": 77,
   "metadata": {},
   "outputs": [
    {
     "name": "stdout",
     "output_type": "stream",
     "text": [
      "[0.  0.  1.  0.  0.  0.  0.  0.  1.  0.  0.  0.  0.  0.  0.  0.  0.  1.\n",
      " 0.  0.  0.  0.  0.  0.  1.  0.  0.  0.  0.  0.  0.  0.  0.  1.  0.  0.\n",
      " 0.  0.  0.  0.  0.  0.  0.  0.  0.  0.  1.  0.  1.  0.  0.  0.  0.  0.\n",
      " 0.  0.  0.  0.  0.  0.  0.  0.  0.  0.  0.  0.  0.  0.  0.  0.  1.  0.\n",
      " 0.  0.  0.  0.  1.  0.  0.  0.  0.3 0.5 0.4]\n",
      "[0.1 0.1 0.1 0.1 0.1 0.1 0.1 0.1 0.1 0.1 0.1 0.1 0.1 0.1 0.1 0.1 0.1 0.1\n",
      " 0.1 0.1 0.1 0.1 0.1 0.1 0.1 0.1 0.1 0.1 0.1 0.1 0.1 0.1 0.1 0.1 0.1 0.1\n",
      " 0.1 0.1 0.1 0.1 0.1 0.1 0.1 0.1 0.1 0.1 0.1 0.1 0.1 0.1 0.1 0.1 0.1 0.1\n",
      " 0.1 0.1 0.1 0.1 0.1 0.1 0.1 0.1 0.1 0.1 0.1 0.1 0.1 0.1 0.1 0.1 0.1 0.1\n",
      " 0.1 0.1 0.1 0.1 0.1 0.1 0.1 0.1 0.  0.  0. ]\n"
     ]
    }
   ],
   "source": [
    "print(para_true)\n",
    "# para_initial = para_true.copy()\n",
    "para_initial = np.ones(len(para_true))*0.1\n",
    "para_initial[-3:]=np.array([0,0,0])\n",
    "# para_initial = np.zeros(len(para_true))\n",
    "print(para_initial)"
   ]
  },
  {
   "cell_type": "code",
   "execution_count": 78,
   "metadata": {
    "colab": {
     "base_uri": "https://localhost:8080/",
     "height": 375
    },
    "executionInfo": {
     "elapsed": 1725,
     "status": "error",
     "timestamp": 1610666967523,
     "user": {
      "displayName": "Weiting Yi",
      "photoUrl": "",
      "userId": "03172180866994945954"
     },
     "user_tz": -60
    },
    "id": "JHqXZxurTwQr",
    "outputId": "b6aa709d-4dac-4ea1-f22b-e53e70040d66"
   },
   "outputs": [
    {
     "name": "stdout",
     "output_type": "stream",
     "text": [
      "Optimization terminated successfully.\n",
      "         Current function value: 13.152398\n",
      "         Iterations: 40\n",
      "         Function evaluations: 3696\n",
      "         Gradient evaluations: 44\n",
      "1.7160297280191719\n",
      "[-2.76534880e-01  3.04641823e-01  8.39616878e-01 -2.55896945e-01\n",
      "  1.40917452e-02  1.24959129e-01  2.29829041e-01 -7.11584327e-02\n",
      "  8.66137561e-01  1.41787326e-01 -2.01423986e-01  1.10186554e-01\n",
      "  1.20086246e-01 -1.71013356e-01 -1.29637990e-01  7.39955181e-02\n",
      " -2.01173461e-01  1.09193350e+00 -1.58908333e-02 -1.37755370e-02\n",
      "  2.38612485e-01  2.13264477e-01 -3.51096557e-01  6.84183918e-06\n",
      "  9.36947395e-01  5.29500426e-01 -1.14311444e-01 -1.56622389e-01\n",
      "  1.54531727e-01 -3.34019861e-01  4.96247844e-02  2.13219960e-01\n",
      "  1.84116728e-01  1.23756549e+00 -4.18103107e-01 -1.60317915e-01\n",
      "  8.87157862e-02  1.09498158e-01 -2.10036984e-01  1.63367758e-01\n",
      "  1.19778767e-01 -6.13917835e-02 -3.51895368e-02 -1.03885948e-01\n",
      "  2.53442021e-01 -1.52974518e-01  9.35802887e-01  6.17959293e-02\n",
      "  7.95970000e-01  3.09595959e-02  1.50266581e-02 -4.25288675e-02\n",
      "  1.90361139e-01 -2.52185293e-02  3.92806702e-01 -2.55309174e-02\n",
      "  1.53607385e-01 -1.84219438e-01  1.29618462e-01 -2.02307600e-01\n",
      "  7.93599162e-02  8.62136917e-02 -2.86472714e-01  2.26033041e-01\n",
      "  2.31541229e-01 -2.60853184e-01 -2.45531072e-01 -6.80399353e-02\n",
      " -1.20483472e-01  2.62592619e-01  8.48528028e-01  3.33051471e-01\n",
      " -9.39502006e-02 -2.99647541e-01  1.43028414e-01  1.80747135e-01\n",
      "  8.81793482e-01 -7.46112920e-02 -1.33792562e-01  2.58772254e-01\n",
      "  3.74223991e-01  5.43915989e-01  3.85727815e-01]\n"
     ]
    }
   ],
   "source": [
    "maxiter=300\n",
    "p1=1\n",
    "p2=1\n",
    "p3=0.01\n",
    "\n",
    "res_gmm = minimize(mle,x0= para_initial,args=(Y1,X,p1,p2,p3), method='BFGS',options={'disp': True, 'maxiter': 1000})\n",
    "# res_gmm_pen = minimize(gmm_pen,x0= para_initial,args=(Y1,X,p1,p2,p3), method='BFGS',options={'disp': True})\n",
    "# res_mle = minimize(mle,x0= para_initial,args=(Y1,X), method='BFGS',options={'disp': True})\n",
    "print(LA.norm(para_true-res_gmm.x))\n",
    "# print(LA.norm(para_true-res_gmm_pen.x))\n",
    "# print(LA.norm(para_true-res_mle.x))\n",
    "print(res_gmm.x)\n",
    "# print(res_mle.x)\n",
    "\n",
    "\n",
    "\n",
    "# para_unp = res_mle.x\n",
    "# test_para, test_error = LQA(X,Y1,0.01)\n",
    "# print(test_para)\n",
    "# print(para_unp)"
   ]
  },
  {
   "cell_type": "code",
   "execution_count": 79,
   "metadata": {},
   "outputs": [],
   "source": [
    "tol = 1e-3"
   ]
  },
  {
   "cell_type": "code",
   "execution_count": 80,
   "metadata": {
    "executionInfo": {
     "elapsed": 1712,
     "status": "aborted",
     "timestamp": 1610666967520,
     "user": {
      "displayName": "Weiting Yi",
      "photoUrl": "",
      "userId": "03172180866994945954"
     },
     "user_tz": -60
    },
    "id": "OZH9wcbyPZnD"
   },
   "outputs": [
    {
     "name": "stdout",
     "output_type": "stream",
     "text": [
      "TPR is:  1.0\n",
      "TNR is:  0.014084507042253521\n",
      "MSE is:  0.27287917224939257\n"
     ]
    }
   ],
   "source": [
    "test_para = res_gmm.x\n",
    "test_para[np.abs(test_para)<tol]=0\n",
    "# print(test_para)\n",
    "rWlist = test_para[0:-3]\n",
    "tWlist = para_true[0:-3]\n",
    "TPR_un = cal_TPR(rWlist,tWlist)\n",
    "TNR_un = cal_TNP(rWlist,tWlist)\n",
    "MSE_unconstrained = cal_MSE(test_para,Y1)\n",
    "print('TPR is: ', TPR_un)\n",
    "print('TNR is: ', TNR_un)\n",
    "# print('Sum of squared bias is', MSE_unconstrained)\n",
    "print('MSE is: ',MSE_unconstrained)\n",
    "\n",
    "# rW = reconstruct(rWlist)\n",
    "# print(rW)\n"
   ]
  },
  {
   "cell_type": "code",
   "execution_count": 81,
   "metadata": {},
   "outputs": [],
   "source": [
    "# import seaborn as sns; \n",
    "# sns.set_theme()\n",
    "# ax1 = sns.heatmap(rW.A, cmap=\"YlGnBu\")\n",
    "# # ax2 = sns.heatmap(W1.A, cmap=\"YlGnBu\")\n",
    "# plt.title('Unregularized')"
   ]
  },
  {
   "cell_type": "markdown",
   "metadata": {
    "id": "Wo0b_OHIpzDk"
   },
   "source": [
    "## 4.2 Constrained optimization"
   ]
  },
  {
   "cell_type": "raw",
   "metadata": {},
   "source": [
    "def quadprog_solve_qp(P, q, G=None, h=None, A=None, b=None):\n",
    "    qp_G = .5 * (P + P.T)   # make sure P is symmetric\n",
    "    qp_a = -q\n",
    "    if A is not None:\n",
    "        qp_C = -numpy.vstack([A, G]).T\n",
    "        qp_b = -numpy.hstack([b, h])\n",
    "        meq = A.shape[0]\n",
    "    else:  # no equality constraint\n",
    "        qp_C = -G.T\n",
    "        qp_b = -h\n",
    "        meq = 0\n",
    "    return quadprog.solve_qp(qp_G, qp_a, qp_C, qp_b, meq)[0]"
   ]
  },
  {
   "cell_type": "code",
   "execution_count": 87,
   "metadata": {},
   "outputs": [
    {
     "name": "stdout",
     "output_type": "stream",
     "text": [
      "Bounds(array([ 0.,  0.,  0.,  0.,  0.,  0.,  0.,  0.,  0.,  0.,  0.,  0.,  0.,\n",
      "        0.,  0.,  0.,  0.,  0.,  0.,  0.,  0.,  0.,  0.,  0.,  0.,  0.,\n",
      "        0.,  0.,  0.,  0.,  0.,  0.,  0.,  0.,  0.,  0.,  0.,  0.,  0.,\n",
      "        0.,  0.,  0.,  0.,  0.,  0.,  0.,  0.,  0.,  0.,  0.,  0.,  0.,\n",
      "        0.,  0.,  0.,  0.,  0.,  0.,  0.,  0.,  0.,  0.,  0.,  0.,  0.,\n",
      "        0.,  0.,  0.,  0.,  0.,  0.,  0.,  0.,  0.,  0.,  0.,  0.,  0.,\n",
      "        0.,  0.,  0., -1., -1.]), array([1., 1., 1., 1., 1., 1., 1., 1., 1., 1., 1., 1., 1., 1., 1., 1., 1.,\n",
      "       1., 1., 1., 1., 1., 1., 1., 1., 1., 1., 1., 1., 1., 1., 1., 1., 1.,\n",
      "       1., 1., 1., 1., 1., 1., 1., 1., 1., 1., 1., 1., 1., 1., 1., 1., 1.,\n",
      "       1., 1., 1., 1., 1., 1., 1., 1., 1., 1., 1., 1., 1., 1., 1., 1., 1.,\n",
      "       1., 1., 1., 1., 1., 1., 1., 1., 1., 1., 1., 1., 1., 1., 1.]))\n"
     ]
    }
   ],
   "source": [
    "#define boundaries \n",
    "from scipy.optimize import Bounds\n",
    "lower = np.zeros(len(para_true))\n",
    "lower[-1] = -1\n",
    "lower[-2] = -1\n",
    "# print(lower)\n",
    "upper = np.ones(len(para_true))\n",
    "# print(upper)\n",
    "bounds = Bounds(lower,upper)\n",
    "print(bounds)"
   ]
  },
  {
   "cell_type": "code",
   "execution_count": 83,
   "metadata": {},
   "outputs": [],
   "source": [
    "#define constraints \n",
    "# def cons3a(para,*args):\n",
    "# \tY, X,p1,p2,p3 = args\n",
    "#     Wlist = para[0:-3]\n",
    "# \tW = reconstruct(Wlist)\n",
    "    \n",
    "# \treturn\n",
    "p1=0.5\n",
    "p2=0.5\n",
    "p3=0.01"
   ]
  },
  {
   "cell_type": "code",
   "execution_count": 88,
   "metadata": {},
   "outputs": [],
   "source": [
    "def gmm_lasso(para,*args):\n",
    "\treturn (1+p2/T)*(gmm(para,*args)+ lasso_s3(para,*args))"
   ]
  },
  {
   "cell_type": "code",
   "execution_count": 89,
   "metadata": {},
   "outputs": [
    {
     "name": "stdout",
     "output_type": "stream",
     "text": [
      "Optimization terminated successfully    (Exit mode 0)\n",
      "            Current function value: 2696.1410307408187\n",
      "            Iterations: 123\n",
      "            Function evaluations: 10245\n",
      "            Gradient evaluations: 119\n",
      "  (0, 1)\t-0.6173498008575138\n",
      "  (0, 2)\t1.3798235342389415e-09\n",
      "  (0, 3)\t0.6799067553202098\n",
      "  (0, 4)\t0.09990636982728028\n",
      "  (0, 5)\t1.669593320631221e-09\n",
      "  (0, 6)\t2.829501070137997e-10\n",
      "  (0, 7)\t1.9960723341359146e-09\n",
      "  (0, 8)\t0.0947422001119749\n",
      "  (0, 9)\t0.7427944702696094\n",
      "  (1, 0)\t1.5286926855057437e-09\n",
      "  (1, 2)\t-0.2577642011203225\n",
      "  (1, 3)\t0.8735627164182755\n",
      "  (1, 4)\t5.002646155072506e-10\n",
      "  (1, 5)\t2.6712202283129426e-09\n",
      "  (1, 6)\t7.75748603954951e-11\n",
      "  (1, 7)\t0.1703518778530928\n",
      "  (1, 8)\t0.032161855252639204\n",
      "  (1, 9)\t0.1816877468185624\n",
      "  (2, 0)\t2.735456335045532e-09\n",
      "  (2, 1)\t5.523315780493217e-10\n",
      "  (2, 3)\t-0.060222151361170484\n",
      "  (2, 4)\t0.8723517731363243\n",
      "  (2, 5)\t1.6203825881310294e-09\n",
      "  (2, 6)\t1.557179900278545e-09\n",
      "  (2, 7)\t0.08216316045340902\n",
      "  :\t:\n",
      "  (7, 2)\t3.3824841997361556e-09\n",
      "  (7, 3)\t1.1902859511054695e-08\n",
      "  (7, 4)\t7.0423116172108165e-09\n",
      "  (7, 5)\t0.712260812833291\n",
      "  (7, 6)\t9.452321976469657e-09\n",
      "  (7, 8)\t0.20176198191992545\n",
      "  (7, 9)\t0.085977161653738\n",
      "  (8, 0)\t0.3459312361569963\n",
      "  (8, 1)\t0.23616885836501147\n",
      "  (8, 2)\t4.112803463294266e-10\n",
      "  (8, 3)\t1.3596810806484797e-09\n",
      "  (8, 4)\t1.864049928830391e-09\n",
      "  (8, 5)\t0.3463305864429326\n",
      "  (8, 6)\t7.833823018253929e-10\n",
      "  (8, 7)\t0.5336293847267904\n",
      "  (8, 9)\t-0.4620600701101243\n",
      "  (9, 0)\t0.8800153768937928\n",
      "  (9, 1)\t1.41901556690416e-10\n",
      "  (9, 2)\t2.7120403761261106e-09\n",
      "  (9, 3)\t3.755637400416289e-09\n",
      "  (9, 4)\t3.2263057024532726e-09\n",
      "  (9, 5)\t5.116834499107245e-10\n",
      "  (9, 6)\t8.496347427253057e-10\n",
      "  (9, 7)\t0.6037851542174302\n",
      "  (9, 8)\t-0.4838005423084262\n"
     ]
    },
    {
     "data": {
      "text/plain": [
       "Text(0.5, 1.0, 'LASSO')"
      ]
     },
     "execution_count": 89,
     "metadata": {},
     "output_type": "execute_result"
    },
    {
     "data": {
      "image/png": "[encoded data removed]",
      "text/plain": [
       "<Figure size 432x288 with 2 Axes>"
      ]
     },
     "metadata": {
      "needs_background": "light"
     },
     "output_type": "display_data"
    }
   ],
   "source": [
    "res_gmm_lasso = minimize(gmm_lasso ,x0= para_initial,args=(Y1,X,p1,p2,p3), method='SLSQP',options={'ftol': 1e-9, 'disp': True, 'maxiter': 1000}, bounds =bounds)\n",
    "# print(LA.norm(para_true-res_gmm_lasso.x))\n",
    "# print(res_gmm_lasso.x)\n",
    "para_lasso = res_gmm_lasso.x\n",
    "# print(para_lasso[-3:])\n",
    "rWlist_lasso = para_lasso[0:-3]\n",
    "rW_lasso = reconstruct(rWlist_lasso)\n",
    "print(rW_lasso)\n",
    "ax = sns.heatmap(rW_lasso.A, cmap=\"YlGnBu\")\n",
    "plt.title('LASSO')"
   ]
  },
  {
   "cell_type": "code",
   "execution_count": null,
   "metadata": {},
   "outputs": [],
   "source": [
    "rW_original = reconstruct()"
   ]
  },
  {
   "cell_type": "code",
   "execution_count": 90,
   "metadata": {
    "scrolled": true
   },
   "outputs": [
    {
     "data": {
      "text/plain": [
       "Text(0.5, 1.0, 'LASSO')"
      ]
     },
     "execution_count": 90,
     "metadata": {},
     "output_type": "execute_result"
    },
    {
     "data": {
      "image/png": "[encoded data removed]",
      "text/plain": [
       "<Figure size 432x288 with 2 Axes>"
      ]
     },
     "metadata": {
      "needs_background": "light"
     },
     "output_type": "display_data"
    }
   ],
   "source": [
    "para_lasso[np.abs(para_lasso)<tol]=0\n",
    "rWlist_lasso = para_lasso[0:-3]\n",
    "rW_lasso = reconstruct(rWlist_lasso)\n",
    "# print(rW_lasso)\n",
    "ax = sns.heatmap(rW_lasso.A, cmap=\"YlGnBu\")\n",
    "plt.title('LASSO')"
   ]
  },
  {
   "cell_type": "code",
   "execution_count": 64,
   "metadata": {
    "scrolled": true
   },
   "outputs": [
    {
     "name": "stdout",
     "output_type": "stream",
     "text": [
      "TPR is:  0.2222222222222222\n",
      "TNR is:  0.5915492957746479\n",
      "MSE is:  2375822011062644.5\n",
      "rho is: 0.9999999927107559\n",
      "gamma is: -0.37846470365570056\n",
      "beta is: 0.3687149134521167\n",
      "[[1.]\n",
      " [1.]\n",
      " [1.]\n",
      " [1.]\n",
      " [1.]\n",
      " [1.]\n",
      " [1.]\n",
      " [1.]\n",
      " [1.]\n",
      " [1.]]\n"
     ]
    }
   ],
   "source": [
    "gmm_lasso_paras  = res_gmm_lasso.x\n",
    "gmm_lasso_paras[np.abs(gmm_lasso_paras)<tol]=0\n",
    "rWlist_gmm_lasso= gmm_lasso_paras[0:-3]\n",
    "# tWlist = para_true[0:-3]\n",
    "TPR_gmm_lasso = cal_TPR(rWlist_gmm_lasso,tWlist)\n",
    "TNR_gmm_lasso = cal_TNP(rWlist_gmm_lasso,tWlist)\n",
    "Bias_gmm_lasso = cal_Bias2(gmm_lasso_paras,para_true)\n",
    "MSE_gmm_lasso = cal_MSE(gmm_lasso_paras,Y1)\n",
    "print('TPR is: ', TPR_gmm_lasso)\n",
    "print('TNR is: ', TNR_gmm_lasso)\n",
    "print('MSE is: ', MSE_gmm_lasso)\n",
    "print('rho is:', gmm_lasso_paras[-3])\n",
    "print('gamma is:', gmm_lasso_paras[-2])\n",
    "print('beta is:', gmm_lasso_paras[-1])\n",
    "# print(np.count_nonzero(rWlist_gmm_lasso))\n",
    "print(np.sum(rW_lasso,axis=1))"
   ]
  },
  {
   "cell_type": "markdown",
   "metadata": {},
   "source": [
    "## Elastic Net "
   ]
  },
  {
   "cell_type": "code",
   "execution_count": 65,
   "metadata": {
    "scrolled": true
   },
   "outputs": [
    {
     "name": "stdout",
     "output_type": "stream",
     "text": [
      "Optimization terminated successfully    (Exit mode 0)\n",
      "            Current function value: 2696.2773824542737\n",
      "            Iterations: 129\n",
      "            Function evaluations: 10788\n",
      "            Gradient evaluations: 125\n",
      "4.138494350985195\n",
      "[ 1.38509523e-05  6.79721186e-01  9.99695713e-02  8.76870361e-09\n",
      "  1.42753264e-04  1.04806033e-08  9.46439587e-02  7.42725863e-01\n",
      "  8.03323788e-09  8.73366734e-01  1.17153522e-04  1.40127309e-08\n",
      "  1.86763085e-04  1.70188874e-01  3.22824984e-02  1.81547383e-01\n",
      "  1.43559122e-08  2.89726608e-09  8.72304124e-01  7.79289834e-07\n",
      "  8.17210342e-09  8.23356849e-02  1.05525554e-01  1.26630228e-08\n",
      "  2.95270034e-08  5.98032705e-01  7.98419601e-09  5.09087380e-08\n",
      "  3.27713178e-01  7.46797633e-08  4.11405320e-08  6.76960709e-08\n",
      "  2.49880374e-01  1.06129046e-08  7.96515587e-01  8.65895409e-05\n",
      "  1.93695250e-01  8.70080360e-09  1.26101772e-08  1.97830762e-05\n",
      "  4.56501593e-02  1.96728759e-08  1.40771898e-08  1.10980146e-08\n",
      "  9.68953317e-09  6.13008822e-01  1.39603271e-01  8.33745317e-05\n",
      "  2.55484713e-09  6.35422780e-01  2.00488724e-05  4.37319465e-05\n",
      "  1.95246719e-01  6.58884916e-01  1.65314793e-05  1.24367819e-02\n",
      "  1.06874047e-05  3.19720079e-08  1.77543979e-08  6.24798279e-08\n",
      "  3.69650512e-08  7.12200991e-01  4.96154141e-08  8.60067261e-02\n",
      "  3.45982824e-01  2.36091963e-01  2.85087947e-05  6.22671103e-05\n",
      "  9.78475345e-09  3.46199644e-01  2.80744503e-06  5.33706785e-01\n",
      "  8.79933765e-01  7.44300395e-10  1.42338835e-08  1.97140901e-08\n",
      "  1.69336170e-08  8.87571117e-05  4.46103315e-09  6.03705295e-01\n",
      "  9.99999962e-01 -3.78442978e-01  3.68691096e-01]\n"
     ]
    }
   ],
   "source": [
    "res_gmm_pen = minimize(gmm_pen ,x0= para_initial,args=(Y1,X,p1,p2,p3), method='SLSQP',options={'ftol': 1e-9, 'disp': True, 'maxiter': 1000}, bounds =bounds)\n",
    "print(LA.norm(para_true-res_gmm_pen.x))\n",
    "print(res_gmm_pen.x)"
   ]
  },
  {
   "cell_type": "code",
   "execution_count": 66,
   "metadata": {},
   "outputs": [
    {
     "ename": "ValueError",
     "evalue": "operands could not be broadcast together with shapes (50,10) (83,) ",
     "output_type": "error",
     "traceback": [
      "\u001b[0;31m---------------------------------------------------------------------------\u001b[0m",
      "\u001b[0;31mValueError\u001b[0m                                Traceback (most recent call last)",
      "\u001b[0;32m<ipython-input-66-80c20db8f0f1>\u001b[0m in \u001b[0;36m<module>\u001b[0;34m\u001b[0m\n\u001b[1;32m      5\u001b[0m \u001b[0mTPR_gmm_pen\u001b[0m \u001b[0;34m=\u001b[0m \u001b[0mcal_TPR\u001b[0m\u001b[0;34m(\u001b[0m\u001b[0mrWlist_gmm_pen\u001b[0m\u001b[0;34m,\u001b[0m\u001b[0mtWlist\u001b[0m\u001b[0;34m)\u001b[0m\u001b[0;34m\u001b[0m\u001b[0;34m\u001b[0m\u001b[0m\n\u001b[1;32m      6\u001b[0m \u001b[0mTNR_gmm_pen\u001b[0m \u001b[0;34m=\u001b[0m \u001b[0mcal_TNP\u001b[0m\u001b[0;34m(\u001b[0m\u001b[0mrWlist_gmm_pen\u001b[0m\u001b[0;34m,\u001b[0m\u001b[0mtWlist\u001b[0m\u001b[0;34m)\u001b[0m\u001b[0;34m\u001b[0m\u001b[0;34m\u001b[0m\u001b[0m\n\u001b[0;32m----> 7\u001b[0;31m \u001b[0mMSE_gmm_pen\u001b[0m \u001b[0;34m=\u001b[0m \u001b[0mcal_MSE\u001b[0m\u001b[0;34m(\u001b[0m\u001b[0mgmm_pen_paras\u001b[0m\u001b[0;34m,\u001b[0m\u001b[0mpara_true\u001b[0m\u001b[0;34m)\u001b[0m\u001b[0;34m\u001b[0m\u001b[0;34m\u001b[0m\u001b[0m\n\u001b[0m\u001b[1;32m      8\u001b[0m \u001b[0mprint\u001b[0m\u001b[0;34m(\u001b[0m\u001b[0;34m'TPR is: '\u001b[0m\u001b[0;34m,\u001b[0m \u001b[0mTPR_gmm_pen\u001b[0m\u001b[0;34m)\u001b[0m\u001b[0;34m\u001b[0m\u001b[0;34m\u001b[0m\u001b[0m\n\u001b[1;32m      9\u001b[0m \u001b[0mprint\u001b[0m\u001b[0;34m(\u001b[0m\u001b[0;34m'TNR is: '\u001b[0m\u001b[0;34m,\u001b[0m \u001b[0mTNR_gmm_pen\u001b[0m\u001b[0;34m)\u001b[0m\u001b[0;34m\u001b[0m\u001b[0;34m\u001b[0m\u001b[0m\n",
      "\u001b[0;32m<ipython-input-50-24fb79324f7f>\u001b[0m in \u001b[0;36mcal_MSE\u001b[0;34m(estimated_paras, Y)\u001b[0m\n\u001b[1;32m     33\u001b[0m         \u001b[0mfit_Y\u001b[0m\u001b[0;34m[\u001b[0m\u001b[0mi\u001b[0m\u001b[0;34m,\u001b[0m\u001b[0;34m]\u001b[0m \u001b[0;34m=\u001b[0m \u001b[0mLA\u001b[0m\u001b[0;34m.\u001b[0m\u001b[0msolve\u001b[0m\u001b[0;34m(\u001b[0m\u001b[0meye\u001b[0m\u001b[0;34m-\u001b[0m\u001b[0mest_rho\u001b[0m\u001b[0;34m*\u001b[0m\u001b[0mest_W\u001b[0m\u001b[0;34m,\u001b[0m\u001b[0mest_beta\u001b[0m\u001b[0;34m*\u001b[0m\u001b[0mX\u001b[0m\u001b[0;34m[\u001b[0m\u001b[0mi\u001b[0m\u001b[0;34m,\u001b[0m\u001b[0;34m]\u001b[0m\u001b[0;34m+\u001b[0m\u001b[0mest_W\u001b[0m\u001b[0;34m@\u001b[0m\u001b[0mX\u001b[0m\u001b[0;34m[\u001b[0m\u001b[0mi\u001b[0m\u001b[0;34m,\u001b[0m\u001b[0;34m]\u001b[0m\u001b[0;34m*\u001b[0m\u001b[0mest_gamma\u001b[0m\u001b[0;34m+\u001b[0m\u001b[0mErr\u001b[0m\u001b[0;34m[\u001b[0m\u001b[0mi\u001b[0m\u001b[0;34m,\u001b[0m\u001b[0;34m]\u001b[0m\u001b[0;34m)\u001b[0m\u001b[0;34m\u001b[0m\u001b[0;34m\u001b[0m\u001b[0m\n\u001b[1;32m     34\u001b[0m     \u001b[0mfit_Y_list\u001b[0m \u001b[0;34m=\u001b[0m \u001b[0mnp\u001b[0m\u001b[0;34m.\u001b[0m\u001b[0mndarray\u001b[0m\u001b[0;34m.\u001b[0m\u001b[0mflatten\u001b[0m\u001b[0;34m(\u001b[0m\u001b[0mfit_Y\u001b[0m\u001b[0;34m)\u001b[0m\u001b[0;34m\u001b[0m\u001b[0;34m\u001b[0m\u001b[0m\n\u001b[0;32m---> 35\u001b[0;31m     \u001b[0;32mreturn\u001b[0m \u001b[0mLA\u001b[0m\u001b[0;34m.\u001b[0m\u001b[0mnorm\u001b[0m\u001b[0;34m(\u001b[0m\u001b[0mfit_Y\u001b[0m\u001b[0;34m-\u001b[0m\u001b[0mY\u001b[0m\u001b[0;34m)\u001b[0m\u001b[0;34m**\u001b[0m\u001b[0;36m2\u001b[0m\u001b[0;34m/\u001b[0m\u001b[0mlen\u001b[0m\u001b[0;34m(\u001b[0m\u001b[0mfit_Y_list\u001b[0m\u001b[0;34m)\u001b[0m\u001b[0;34m\u001b[0m\u001b[0;34m\u001b[0m\u001b[0m\n\u001b[0m\u001b[1;32m     36\u001b[0m \u001b[0;34m\u001b[0m\u001b[0m\n",
      "\u001b[0;31mValueError\u001b[0m: operands could not be broadcast together with shapes (50,10) (83,) "
     ]
    }
   ],
   "source": [
    "gmm_pen_paras  = res_gmm_pen.x\n",
    "gmm_pen_paras[np.abs(gmm_pen_paras)<tol]=0\n",
    "rWlist_gmm_pen= gmm_pen_paras[0:-3]\n",
    "# tWlist = para_true[0:-3]\n",
    "TPR_gmm_pen = cal_TPR(rWlist_gmm_pen,tWlist)\n",
    "TNR_gmm_pen = cal_TNP(rWlist_gmm_pen,tWlist)\n",
    "MSE_gmm_pen = cal_MSE(gmm_pen_paras,para_true)\n",
    "print('TPR is: ', TPR_gmm_pen)\n",
    "print('TNR is: ', TNR_gmm_pen)\n",
    "print('MSE is: ', MSE_gmm_pen)"
   ]
  },
  {
   "cell_type": "code",
   "execution_count": null,
   "metadata": {},
   "outputs": [],
   "source": []
  },
  {
   "cell_type": "raw",
   "metadata": {},
   "source": [
    "ax2 = sns.heatmap(W1.A, cmap=\"YlGnBu\")\n",
    "plt.title('Original')\n",
    "para_pen = res_gmm_pen.x\n",
    "print(para_pen[-3:])\n",
    "rWlist_pen = para_pen[0:-3]\n",
    "rW_pen = reconstruct(rWlist_pen)\n",
    "print(rW_pen)\n",
    "ax3 = sns.heatmap(rW_pen.A, cmap=\"YlGnBu\")\n",
    "plt.title('Elastic Net')"
   ]
  },
  {
   "cell_type": "markdown",
   "metadata": {},
   "source": [
    "# PSW"
   ]
  },
  {
   "cell_type": "code",
   "execution_count": null,
   "metadata": {},
   "outputs": [],
   "source": [
    " pip install pyswarms"
   ]
  },
  {
   "cell_type": "code",
   "execution_count": null,
   "metadata": {},
   "outputs": [],
   "source": [
    "import pyswarms as ps\n",
    "from pyswarms.utils.functions import single_obj as fx"
   ]
  },
  {
   "cell_type": "code",
   "execution_count": null,
   "metadata": {},
   "outputs": [],
   "source": [
    "options = {'c1': 0.5, 'c2': 0.3, 'w':0.9}\n",
    "optimizer = ps.single.GlobalBestPSO(n_particles=10, dimensions=2, options=options)\n",
    "cost, pos = optimizer.optimize(fx.sphere, iters=1000)"
   ]
  },
  {
   "cell_type": "code",
   "execution_count": null,
   "metadata": {},
   "outputs": [],
   "source": [
    "from pyswarms.single.global_best import GlobalBestPSO"
   ]
  },
  {
   "cell_type": "code",
   "execution_count": 243,
   "metadata": {},
   "outputs": [],
   "source": [
    "def gmm_pso(para,Y,X,p1,p2,p3):\n",
    "#     Y, X,p1,p2,p3 = args\n",
    "    para = np.reshape(para,(N*(N-2)+3))\n",
    "    rho = para[-3]\n",
    "    gamma = para[-2]\n",
    "    beta = para[-1]\n",
    "    Wlist = para[0:-3]\n",
    "#     W = W1\n",
    "    W = reconstruct(Wlist)\n",
    "    ERR = (eye-rho*W)@np.transpose(Y)-(beta*eye+gamma*W)@np.transpose(X)\n",
    "    ERR = np.transpose(ERR)\n",
    "    gnt = np.zeros(N*N)\n",
    "    for j in range(T):\n",
    "        temp = np.outer(X[j],ERR[j])\n",
    "        gnt = gnt+temp.reshape((N*N))\n",
    "\n",
    "  #weight matrix \n",
    "    Weight = np.identity(N*N)\n",
    "    gnt.reshape((N*N,1))\n",
    "    return np.transpose(gnt)@Weight@gnt\n",
    "\n",
    "\n",
    "#def unpenalized mle   \n",
    "#assume the little sigma =1 \n",
    "def mle_pso(para,Y,X,p1,p2,p3):\n",
    "#     Y, X,p1,p2,p3 = args\n",
    "    para = np.reshape(para,(N*(N-1)+3))\n",
    "    rho = para[-3]\n",
    "    gamma = para[-2]\n",
    "    beta = para[-1]\n",
    "    Wlist = para[0:-3]\n",
    "    W = reconstruct(Wlist)\n",
    "\n",
    "    ERR = (eye-rho*W)@np.transpose(Y)-(beta*eye+gamma*W)@np.transpose(X)\n",
    "    ERR = np.transpose(ERR)\n",
    "    tllk=0\n",
    "    for i in range(T):\n",
    "        error = np.reshape(ERR[i],(N,1))\n",
    "        tllk = tllk-0.5*N*math.log(2*math.pi)-0.5*np.transpose(error)@error\n",
    "  \n",
    "    llk = tllk/T\n",
    "\n",
    "    return -llk.item()\n",
    "  \n",
    "#define the penalty functions\n",
    "def lasso_s1_pso(para,Y,X,p1,p2,p3):\n",
    "#     Y, X,p1,p2,p3 = args\n",
    "    Wlist = para[0:-3]\n",
    "    lasso_pen = 0\n",
    "    for i in range(len(Wlist)):\n",
    "        lasso_pen = lasso_pen + (abs(Wlist[i]))\n",
    "    return p1*lasso_pen\n",
    "\n",
    "def lasso_s2_pso(para,Y,X,p1,p2,p3):\n",
    "#     Y, X,p1,p2,p3= args\n",
    "    Wlist = para[0:-3]\n",
    "    lasso_pen = 0\n",
    "    for i in range(len(Wlist)):\n",
    "        lasso_pen = lasso_pen + (abs(Wlist[i]))\n",
    "    return p2*lasso_pen\n",
    "\n",
    "\n",
    "def lasso_s3_pso(para,Y,X,p1,p2,p3):\n",
    "#     Y, X,p1,p2,p3= args\n",
    "    Wlist = para[0:-3]\n",
    "    lasso_pen = 0\n",
    "    for i in range(len(Wlist)):\n",
    "        lasso_pen = lasso_pen + (Wlist[i])\n",
    "    return p2*lasso_pen\n",
    "\n",
    "\n",
    "\n",
    "def elsn_s1_pso(para,Y,X,p1,p2,p3):\n",
    "#     Y, X,p1,p2,p3 = args\n",
    "    Wlist = para[0:-3]\n",
    "    lasso_pen = 0\n",
    "    ridge_pen = 0\n",
    "    for i in range(len(Wlist)):\n",
    "        lasso_pen = lasso_pen + p1*(abs(Wlist[i]))\n",
    "        ridge_pen = ridge_pen + p3*(Wlist[i]*Wlist[i])\n",
    "        return ridge_pen+lasso_pen\n",
    "\n",
    "\n",
    "def elsn_s2_pso(para,Y,X,p1,p2,p3):\n",
    "#     Y, X,p1,p2,p3 = args\n",
    "    Wlist = para[0:-3]\n",
    "    lasso_pen = 0\n",
    "    ridge_pen = 0\n",
    "    for i in range(len(Wlist)):\n",
    "    \tlasso_pen = lasso_pen + p2*(abs(Wlist[i]))\n",
    "    \tridge_pen = ridge_pen + p3*(Wlist[i]*Wlist[i])\n",
    "    return ridge_pen+lasso_pen\n",
    "\n",
    "\n",
    "def elsn_s3_pso(para,Y,X,p1,p2,p3):\n",
    "#     Y, X,p1,p2,p3 = args\n",
    "    Wlist = para[0:-3]\n",
    "    lasso_pen = 0\n",
    "    ridge_pen = 0\n",
    "    for i in range(len(Wlist)):\n",
    "        lasso_pen = lasso_pen + p1*(Wlist[i])\n",
    "        ridge_pen = ridge_pen + p3*(Wlist[i]*Wlist[i])\n",
    "    \n",
    "    return ridge_pen+lasso_pen\n",
    "  \n",
    "  \n",
    "  \n",
    "def gmm_pen_pso(para,Y,X,p1,p2,p3):\n",
    "\treturn (1+p2/T)*(gmm(para,*args)+ elsn_s3(para,*args))\n",
    "\n",
    "def gmm_lasso_pso(para,Y,X,p1,p2,p3):\n",
    "\treturn (1+p2/T)*(gmm(para,*args)+ lasso_s3(para,*args))\n"
   ]
  },
  {
   "cell_type": "code",
   "execution_count": null,
   "metadata": {},
   "outputs": [],
   "source": []
  },
  {
   "cell_type": "code",
   "execution_count": null,
   "metadata": {},
   "outputs": [],
   "source": []
  }
 ],
 "metadata": {
  "colab": {
   "authorship_tag": "ABX9TyPoLDbxQdtzM+1WiYMAgD9P",
   "collapsed_sections": [
    "A-3zhMKTMGjQ",
    "Wo0b_OHIpzDk",
    "tiE84TYmtBtS"
   ],
   "mount_file_id": "1P7pNWmKR5HK2nVapOO6Au7OGFbLJCgDK",
   "name": "Bachelor Thesis.ipynb",
   "provenance": [],
   "toc_visible": true
  },
  "kernelspec": {
   "display_name": "Python 3",
   "language": "python",
   "name": "python3"
  },
  "language_info": {
   "codemirror_mode": {
    "name": "ipython",
    "version": 3
   },
   "file_extension": ".py",
   "mimetype": "text/x-python",
   "name": "python",
   "nbconvert_exporter": "python",
   "pygments_lexer": "ipython3",
   "version": "3.8.5"
  }
 },
 "nbformat": 4,
 "nbformat_minor": 4
}
